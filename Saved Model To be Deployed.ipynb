{
 "cells": [
  {
   "cell_type": "code",
   "execution_count": 14,
   "id": "23e0810a",
   "metadata": {},
   "outputs": [],
   "source": [
    "import pandas as pd\n",
    "import streamlit as st\n",
    "import pickle"
   ]
  },
  {
   "cell_type": "markdown",
   "id": "4d19be93",
   "metadata": {},
   "source": [
    "# Loading The Saved File"
   ]
  },
  {
   "cell_type": "code",
   "execution_count": 15,
   "id": "f8e6485a",
   "metadata": {},
   "outputs": [],
   "source": [
    "#I obtained the syntax for this load() from Google😂😂🤦‍♂️, I'm still a genius though....\n",
    "\n",
    "loaded_model = pickle.load(open ('trained_model.sav', 'rb'))"
   ]
  },
  {
   "cell_type": "code",
   "execution_count": 16,
   "id": "e9938683",
   "metadata": {},
   "outputs": [],
   "source": [
    "#Creating a function for Prediction\n",
    "def heartdisease_prediction (input_data):\n",
    "        # changing the input data to a numpy array\n",
    "        Array_data= np.asarray(input_data)\n",
    "        \n",
    "        #Reshaping the numpy array to a 1D ARRAY as we are predicting for only one instance\n",
    "        reshaped_data = Array_data.reshape (1,-1)\n",
    "        prediction = loaded_model.predict(reshaped_data)\n",
    "        #using if else logic to determine heart disease is true or not\n",
    "        if (prediction[0] == 0):\n",
    "            st.success ('The person does not have heart disease')\n",
    "        else:\n",
    "            st.warning ('The person have heart disease')\n",
    "        #Adding title to the page\n",
    "        st.title ('Heart Disease Prediction Web Application')\n",
    "\n",
    "        #Getting the input data from the user \n",
    "        #AND storing it in same column names as used in the Dataset \n",
    "        age = st.text_input(\"Enter your Age in Years\")\n",
    "        sex = st.text_input (\"Choose Sex: 1 is for male, 0 is for female\")\n",
    "        cp = st.text_input (\"Choose Chest pain type(0 or 1)\")\n",
    "        trestbps = st.text_input (\"Input Resting blood pressure in mm Hg:\")\n",
    "        chol = st.text_input (\"Enter Serum cholesterol in mg/dl\")\n",
    "        fbs = st.text_input (\"Is Your Fasting blood sugar > 120 mg/dl :Then 1 – true, 0 – false\")\n",
    "        restecg = st.text_input (\"Resting electrocardiographic results(0 or 1 or 2)\")\n",
    "        thalach = st.text_input (\"Maximum heart rate achieved\")\n",
    "        exang = st.text_input (\"Do You Have Exercise induced angina: 1 – yes, 0 – no\")\n",
    "        oldpeak = st.text_input (\"Enter ST depression in mm\")\n",
    "        slope = st.text_input (\"Enter Slope\")\n",
    "        ca = st.text_input (\"Number of major vessels (0-3)\")\n",
    "        thal = st.text_input (\"Enter thalach:\")\n",
    "        \n",
    "        # code for Prediction\n",
    "        diagnosis = \" \"\n",
    "        # creating a button for Prediction\n",
    "        if st.button (\"Heart Disease Test Result\"):\n",
    "            diagnosis = heartdisease_prediction([age,sex,cp,trestbps,chol,fbs,restecg,thalach,exang,oldpeak,slope,ca,that])\n"
   ]
  },
  {
   "cell_type": "code",
   "execution_count": null,
   "id": "86802317",
   "metadata": {},
   "outputs": [],
   "source": []
  },
  {
   "cell_type": "code",
   "execution_count": null,
   "id": "d334465d",
   "metadata": {},
   "outputs": [],
   "source": []
  }
 ],
 "metadata": {
  "kernelspec": {
   "display_name": "Python 3 (ipykernel)",
   "language": "python",
   "name": "python3"
  },
  "language_info": {
   "codemirror_mode": {
    "name": "ipython",
    "version": 3
   },
   "file_extension": ".py",
   "mimetype": "text/x-python",
   "name": "python",
   "nbconvert_exporter": "python",
   "pygments_lexer": "ipython3",
   "version": "3.9.12"
  }
 },
 "nbformat": 4,
 "nbformat_minor": 5
}
